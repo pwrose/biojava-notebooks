{
 "cells": [
  {
   "cell_type": "markdown",
   "metadata": {},
   "source": [
    "# Example of running BioJava in a Jupyter Notebook\n",
    "This notebook demonstrates how to setup the BioJava dependencies, run BioJava code using the Java Kernel, and finally use a Python cell to plot results."
   ]
  },
  {
   "cell_type": "markdown",
   "metadata": {},
   "source": [
    "### Setup BioJava dependencies\n",
    "Configure class path resolver to use a local copy of jar files in the maven repository (~/.m2/repository)."
   ]
  },
  {
   "cell_type": "code",
   "execution_count": 3,
   "metadata": {},
   "outputs": [
    {
     "name": "stdout",
     "output_type": "stream",
     "text": [
      "Added new repo: mvnLocal\n"
     ]
    }
   ],
   "source": [
    "%classpath config resolver mvnLocal"
   ]
  },
  {
   "cell_type": "markdown",
   "metadata": {},
   "source": [
    "Load the required dependencies from the local maven repository."
   ]
  },
  {
   "cell_type": "code",
   "execution_count": 4,
   "metadata": {
    "scrolled": true
   },
   "outputs": [
    {
     "data": {
      "application/vnd.jupyter.widget-view+json": {
       "model_id": "",
       "version_major": 2,
       "version_minor": 0
      },
      "method": "display_data"
     },
     "metadata": {},
     "output_type": "display_data"
    },
    {
     "data": {
      "application/vnd.jupyter.widget-view+json": {
       "model_id": "ddd4efac-730b-4aec-aeee-d010f50e600e",
       "version_major": 2,
       "version_minor": 0
      },
      "method": "display_data"
     },
     "metadata": {},
     "output_type": "display_data"
    }
   ],
   "source": [
    "%classpath add mvn org.biojava biojava-structure 5.1.1"
   ]
  },
  {
   "cell_type": "markdown",
   "metadata": {},
   "source": [
    "### Define method to calculate tri-axial ellipsoid radii for a protein chain\n",
    "Three ellipse radii `a`, `b`, `c` define a tri-axial ellipsoid along the axes of inertia."
   ]
  },
  {
   "cell_type": "markdown",
   "metadata": {},
   "source": [
    "The three ellipse radii define a tri-axial ellipsoid along the"
   ]
  },
  {
   "cell_type": "markdown",
   "metadata": {},
   "source": [
    "![title](../images/Ellipsoid.jpg)"
   ]
  },
  {
   "cell_type": "markdown",
   "metadata": {},
   "source": [
    "Each cell must be a compilable unit, e.g., a class definition."
   ]
  },
  {
   "cell_type": "code",
   "execution_count": 6,
   "metadata": {
    "code_folding": [],
    "scrolled": true
   },
   "outputs": [
    {
     "data": {
      "text/plain": [
       "com.twosigma.beaker.javash.bkr70d3dbf8.Shape"
      ]
     },
     "execution_count": 6,
     "metadata": {},
     "output_type": "execute_result"
    }
   ],
   "source": [
    "import org.biojava.nbio.structure.*;\n",
    "import org.biojava.nbio.structure.geometry.*;\n",
    "\n",
    "public class Shape {\n",
    "    public static double[] getEllipsisRadii(Chain c) {\n",
    "        MomentsOfInertia moi = new MomentsOfInertia();\n",
    "        // use C-alpha atoms only\n",
    "        for (Atom a: StructureTools.getAtomCAArray(c)) {\n",
    "            moi.addPoint(a.getCoordsAsPoint3d(), 1.0);\n",
    "        }\n",
    "        return moi.getElipsisRadii();\n",
    "    }\n",
    "}"
   ]
  },
  {
   "cell_type": "markdown",
   "metadata": {},
   "source": [
    "## Calculate ellipse radii for a representative subset of PDB chains\n",
    "Imports are not global, they need to be defined for each cell. However, classes defined in other cells can be accessed."
   ]
  },
  {
   "cell_type": "code",
   "execution_count": 10,
   "metadata": {
    "scrolled": true
   },
   "outputs": [
    {
     "name": "stdout",
     "output_type": "stream",
     "text": [
      "5AZE.H 4H9U.A 1LWD.A 4JH8.A 1HX6.A 6D90.s 6DXL.A 1LXY.A 3IE1.A 3CT4.A 1IS7.A 1M5Q.A 3NXE.A 4B97.A 5J7U.A 5JR7.B 4J0K.A 4YOK.A 1SQL.A 6EU2.M 5JJU.A 1GG4.A 3F5F.A 2IML.A 1VC9.A 4HL9.A 1W4G.A 3C9G.A 1V2B.A 5GUW.A 5IT0.A 3RQZ.A 1TV8.A 2ICW.G 4EJQ.A 5XSX.A 5DIR.A 5LJY.A 2D5L.A 2WIU.B 4R3I.A 3O6U.A 2WP4.A 5G52.A 5WTI.Z 1IJX.A 4BFG.A 4LKU.A 4N0N.A 2I1J.A 5LF9.A 5JTV.A 2EQ5.A 5XDH.A 5UWB.B 4V7O.AE 4XPZ.A 2H1O.E 4II1.A 3OPY.A 5TUV.A 4J7H.A 4V62.AX 4OM3.A 4IRV.A 5K2Y.A 3WFO.A 5MRF.3 4Q4G.X 4HGK.C 4MBE.B 3HA2.A 6G90.D 4G4I.A 4C3S.A 2AFE.A 4G59.C 2KW1.A 5IET.B 1SM7.A 5YYL.C 3F1I.S 1KVN.A 5FTT.A 4UUT.A 2IXB.A 4UM8.B 5A6F.C 2Z5E.A 1DXS.A 4ZMM.A 3E18.A 5EIP.A 3TYY.A 3LAZ.A 4PH8.A 3EFY.A 1Y0J.A 5LSJ.N 2JS9.A 2BOL.A 3WEW.A 5I0Q.A 4O7J.B 4MDR.A 4WQO.A 2JYN.A 2E8P.A 5OQL.H 1WHZ.A 1DSQ.A 2FG9.A 2KXD.A 3FO8.D 1SDD.A 5JOJ.A 2XEU.A 2F6H.X 5TE9.A 2CSW.A 2M4I.A 5JNQ.A 2QNA.B 2KDU.B 2C7H.A 1QLO.A 2E44.A 1ZLG.A 1ERD.A 3TGH.A 5T7Q.A 3ZF8.A 2LIF.A 1N7D.A 3UQ3.A 3L1N.A 4V5Z.Ae 3I4U.A 2MVB.A 3W15.A 5K9H.A 3TMA.A 5UQD.A 4QXL.A "
     ]
    },
    {
     "data": {
      "text/plain": [
       "null"
      ]
     },
     "execution_count": 10,
     "metadata": {},
     "output_type": "execute_result"
    }
   ],
   "source": [
    "import java.util.*;\n",
    "import java.io.*;\n",
    "import org.biojava.nbio.structure.*;\n",
    "import org.biojava.nbio.structure.symmetry.utils.BlastClustReader;\n",
    "\n",
    "// store PDB chain id and ellipse radii in a csv file\n",
    "String fileName = \"radii.csv\";\n",
    "PrintWriter pw = new PrintWriter(new FileWriter(fileName));\n",
    "pw.println(\"id,a,b,c\");\n",
    "\n",
    "// use increment to only use every n-th representative\n",
    "int count = 0;\n",
    "int n = 200;\n",
    "\n",
    "// get representative PDB protein chains for 30% sequence identity clusters\n",
    "BlastClustReader br = new BlastClustReader(30);\n",
    "\n",
    "for (List<String> cluster: br.getPdbChainIdClusters()) {\n",
    "    // sample every n-th representative\n",
    "    if (count++ % n == 0) {\n",
    "        \n",
    "        // get the id for first chain in each sequence cluster\n",
    "        String pdbChainId = cluster.get(0);\n",
    "        System.out.print(pdbChainId + \" \");\n",
    "        \n",
    "        // download chain\n",
    "        Structure s = StructureIO.getStructure(pdbChainId);\n",
    "        Chain c = s.getPolyChains().get(0);\n",
    "        \n",
    "        // calculate and save ellipse radii\n",
    "        double[] r = Shape.getEllipsisRadii(c);\n",
    "        pw.println(pdbChainId + \",\" + r[0] + \",\" + r[1] + \",\" + r[2]);\n",
    "    }\n",
    "}\n",
    "pw.close();"
   ]
  },
  {
   "cell_type": "markdown",
   "metadata": {},
   "source": [
    "## Plot the distribution of ellipse radii\n",
    "Use a Python cell to plot the results using Matplotlib."
   ]
  },
  {
   "cell_type": "code",
   "execution_count": 14,
   "metadata": {},
   "outputs": [
    {
     "data": {
      "text/html": [
       "<div>\n",
       "<style scoped>\n",
       "    .dataframe tbody tr th:only-of-type {\n",
       "        vertical-align: middle;\n",
       "    }\n",
       "\n",
       "    .dataframe tbody tr th {\n",
       "        vertical-align: top;\n",
       "    }\n",
       "\n",
       "    .dataframe thead th {\n",
       "        text-align: right;\n",
       "    }\n",
       "</style>\n",
       "<table border=\"1\" class=\"dataframe\">\n",
       "  <thead>\n",
       "    <tr style=\"text-align: right;\">\n",
       "      <th></th>\n",
       "      <th>id</th>\n",
       "      <th>a</th>\n",
       "      <th>b</th>\n",
       "      <th>c</th>\n",
       "    </tr>\n",
       "  </thead>\n",
       "  <tbody>\n",
       "    <tr>\n",
       "      <th>0</th>\n",
       "      <td>5AZE.H</td>\n",
       "      <td>10.362348</td>\n",
       "      <td>21.969226</td>\n",
       "      <td>22.407709</td>\n",
       "    </tr>\n",
       "    <tr>\n",
       "      <th>1</th>\n",
       "      <td>4H9U.A</td>\n",
       "      <td>14.008238</td>\n",
       "      <td>14.993670</td>\n",
       "      <td>15.836474</td>\n",
       "    </tr>\n",
       "    <tr>\n",
       "      <th>2</th>\n",
       "      <td>1LWD.A</td>\n",
       "      <td>15.585820</td>\n",
       "      <td>19.230798</td>\n",
       "      <td>20.212576</td>\n",
       "    </tr>\n",
       "    <tr>\n",
       "      <th>3</th>\n",
       "      <td>4JH8.A</td>\n",
       "      <td>10.566548</td>\n",
       "      <td>14.841371</td>\n",
       "      <td>15.161407</td>\n",
       "    </tr>\n",
       "    <tr>\n",
       "      <th>4</th>\n",
       "      <td>1HX6.A</td>\n",
       "      <td>15.293704</td>\n",
       "      <td>17.555811</td>\n",
       "      <td>20.192787</td>\n",
       "    </tr>\n",
       "  </tbody>\n",
       "</table>\n",
       "</div>"
      ],
      "text/plain": [
       "       id          a          b          c\n",
       "0  5AZE.H  10.362348  21.969226  22.407709\n",
       "1  4H9U.A  14.008238  14.993670  15.836474\n",
       "2  1LWD.A  15.585820  19.230798  20.212576\n",
       "3  4JH8.A  10.566548  14.841371  15.161407\n",
       "4  1HX6.A  15.293704  17.555811  20.192787"
      ]
     },
     "execution_count": 5,
     "metadata": {},
     "output_type": "execute_result"
    }
   ],
   "source": [
    "%%python\n",
    "%matplotlib inline\n",
    "import matplotlib.pyplot as plt\n",
    "import pandas as pd\n",
    "\n",
    "df = pd.read_csv(\"radii.csv\")\n",
    "df.head()"
   ]
  },
  {
   "cell_type": "code",
   "execution_count": 13,
   "metadata": {},
   "outputs": [
    {
     "data": {
      "image/png": "[encoded data removed]",
      "text/plain": [
       "<Figure size 432x288 with 1 Axes>"
      ]
     },
     "metadata": {
      "needs_background": "light"
     },
     "output_type": "display_data"
    },
    {
     "data": {
      "image/png": "[encoded data removed]",
      "text/plain": [
       "<Figure size 432x288 with 1 Axes>"
      ]
     },
     "metadata": {
      "needs_background": "light"
     },
     "output_type": "display_data"
    }
   ],
   "source": [
    "%%python\n",
    "df.plot.scatter(x=\"a\",y=\"c\",grid=True,title=\"Ellipse Radii for Protein Chains (Minor axis vs. Major Axis)\")\n",
    "df.plot.scatter(x=\"b\",y=\"c\",grid=True,title=\"Ellipse Radii for Protein Chains (Intermediate axis vs. Major Axis)\");"
   ]
  },
  {
   "cell_type": "code",
   "execution_count": null,
   "metadata": {},
   "outputs": [],
   "source": []
  },
  {
   "cell_type": "code",
   "execution_count": null,
   "metadata": {},
   "outputs": [],
   "source": []
  }
 ],
 "metadata": {
  "kernelspec": {
   "display_name": "Java",
   "language": "java",
   "name": "java"
  },
  "language_info": {
   "codemirror_mode": "text/x-java",
   "file_extension": ".java",
   "mimetype": "",
   "name": "Java",
   "nbconverter_exporter": "",
   "version": "1.8.0_152-release"
  },
  "toc": {
   "base_numbering": 1,
   "nav_menu": {},
   "number_sections": false,
   "sideBar": false,
   "skip_h1_title": false,
   "title_cell": "Table of Contents",
   "title_sidebar": "Contents",
   "toc_cell": false,
   "toc_position": {},
   "toc_section_display": false,
   "toc_window_display": false
  }
 },
 "nbformat": 4,
 "nbformat_minor": 2
}
